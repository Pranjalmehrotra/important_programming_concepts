{
  "nbformat": 4,
  "nbformat_minor": 0,
  "metadata": {
    "colab": {
      "private_outputs": true,
      "provenance": [],
      "collapsed_sections": []
    },
    "kernelspec": {
      "name": "python3",
      "display_name": "Python 3"
    },
    "language_info": {
      "name": "python"
    }
  },
  "cells": [
    {
      "cell_type": "code",
      "execution_count": null,
      "metadata": {
        "id": "W3IhSKlfELG1"
      },
      "outputs": [],
      "source": [
        "# Continue Examples"
      ]
    },
    {
      "cell_type": "code",
      "source": [
        "#Case 1: Continue is used after the 1 statement.So only the statement above the continue will be able to print for the same of times as the loop continues, rest will not be printing.\n",
        "list = [1,2,3,4]\n",
        "n = len(list)\n",
        "for  i in range(n):\n",
        "  print(\"This is 1st sentense\")\n",
        "  continue\n",
        "  print(\"This is 2nd Sentense\")\n",
        "  print(\"This is the 3rd sentense just after the continue\")\n",
        "  print(\"This is  the 4th sentense\")\n",
        "  print(\"This is  the 5th sentense\")"
      ],
      "metadata": {
        "id": "PnQDxP1wGjup"
      },
      "execution_count": null,
      "outputs": []
    },
    {
      "cell_type": "code",
      "source": [
        "#Case 2: Continue is used after the 2 statements.So only the statements above the continue will be able to print for the same number of times as that of loop, rest will not be printing.\n",
        "list = [1,2,3,4]\n",
        "n = len(list)\n",
        "for  i in range(n):\n",
        "  print(\"This is 1st sentense\")\n",
        "  print(\"This is 2nd Sentense\")\n",
        "  continue\n",
        "  print(\"This is the 3rd sentense just after the continue\")\n",
        "  print(\"This is  the 4th sentense\")\n",
        "  print(\"This is  the 5th sentense\")"
      ],
      "metadata": {
        "id": "xxRxgZcQESgJ"
      },
      "execution_count": null,
      "outputs": []
    },
    {
      "cell_type": "code",
      "source": [
        "#Case 3: Continue is used after the 3 statements.So only the statements above the continue will be able to print same number of times as that of the loop, rest will not be printing.\n",
        "list = [1,2,3,4]\n",
        "n = len(list)\n",
        "for  i in range(n):\n",
        "  print(\"This is 1st sentense\")\n",
        "  print(\"This is 2nd Sentense\")\n",
        "  print(\"This is the 3rd sentense just after the continue\")\n",
        "  continue\n",
        "  print(\"This is  the 4th sentense\")\n",
        "  print(\"This is  the 5th sentense\")"
      ],
      "metadata": {
        "id": "u2hYa1zsE8oj"
      },
      "execution_count": null,
      "outputs": []
    },
    {
      "cell_type": "code",
      "source": [
        "#Case 4: Continue is used after the 4 statements.So only the statements above the continue will be able to print same number of times as that of loop, rest will not be printing.\n",
        "list = [1,2,3,4]\n",
        "n = len(list)\n",
        "for  i in range(n):\n",
        "  print(\"This is 1st sentense\")\n",
        "  print(\"This is 2nd Sentense\")\n",
        "  print(\"This is the 3rd sentense just after the continue\")\n",
        "  print(\"This is  the 4th sentense\")\n",
        "  continue\n",
        "  print(\"This is  the 5th sentense\")\n"
      ],
      "metadata": {
        "id": "JU1SufY0F4tq"
      },
      "execution_count": null,
      "outputs": []
    },
    {
      "cell_type": "code",
      "source": [
        "#Case 5: Continue is used after the 5 statements.So only the statements above the continue will be able to print same number of times as that of the loop, rest will not be printing.\n",
        "list = [1,2,3,4]\n",
        "n = len(list)\n",
        "for  i in range(n):\n",
        "  print(\"This is 1st sentense\")\n",
        "  print(\"This is 2nd Sentense\")\n",
        "  print(\"This is the 3rd sentense just after the continue\")\n",
        "  print(\"This is  the 4th sentense\")\n",
        "  print(\"This is  the 5th sentense\")\n",
        "  continue"
      ],
      "metadata": {
        "id": "F9cj4ITsGAgj"
      },
      "execution_count": null,
      "outputs": []
    },
    {
      "cell_type": "code",
      "source": [
        "# Break Examples"
      ],
      "metadata": {
        "id": "xykaJhxcGsUX"
      },
      "execution_count": null,
      "outputs": []
    },
    {
      "cell_type": "code",
      "source": [
        "#Case 1: Break is used after the 1 statement.So only \n",
        "#   the statements above the break will be able to print, rest will not be printing.\n",
        "list = [1,2,3,4]\n",
        "n = len(list)\n",
        "for  i in range(n):\n",
        "  print(\"This is 1st sentense\")\n",
        "  break\n",
        "  print(\"This is 2nd Sentense\")\n",
        "  print(\"This is the 3rd sentense just after the continue\")\n",
        "  print(\"This is  the 4th sentense\")\n",
        "  print(\"This is  the 5th sentense\")"
      ],
      "metadata": {
        "id": "TnlYKMdoGwrR"
      },
      "execution_count": null,
      "outputs": []
    },
    {
      "cell_type": "code",
      "source": [
        "#Case 2: Break is used after the 2 statements.So only the statements above the break will be able to print, rest will not be printing.\n",
        "list = [1,2,3,4]\n",
        "n = len(list)\n",
        "for  i in range(n):\n",
        "  print(\"This is 1st sentense\")\n",
        "  print(\"This is 2nd Sentense\")\n",
        "  break\n",
        "  print(\"This is the 3rd sentense just after the continue\")\n",
        "  print(\"This is  the 4th sentense\")\n",
        "  print(\"This is  the 5th sentense\")"
      ],
      "metadata": {
        "id": "MuUpakTkG_8A"
      },
      "execution_count": null,
      "outputs": []
    },
    {
      "cell_type": "code",
      "source": [
        "#Case 3: Break is used after the 3 statements.So only the statements above the break will be able to print, rest will not be printing.\n",
        "list = [1,2,3,4]\n",
        "n = len(list)\n",
        "for  i in range(n):\n",
        "  print(\"This is 1st sentense\")\n",
        "  print(\"This is 2nd Sentense\")\n",
        "  print(\"This is the 3rd sentense just after the continue\")\n",
        "  break\n",
        "  print(\"This is  the 4th sentense\")\n",
        "  print(\"This is  the 5th sentense\")"
      ],
      "metadata": {
        "id": "gSagCaTvHHl8"
      },
      "execution_count": null,
      "outputs": []
    },
    {
      "cell_type": "code",
      "source": [
        "#Case 4: Break is used after the 4 statements.So only the statements above the break will be able to print, rest will not be printing.\n",
        "list = [1,2,3,4]\n",
        "n = len(list)\n",
        "for  i in range(n):\n",
        "  print(\"This is 1st sentense\")\n",
        "  print(\"This is 2nd Sentense\")\n",
        "  print(\"This is the 3rd sentense just after the continue\")\n",
        "  print(\"This is  the 4th sentense\")\n",
        "  break\n",
        "  print(\"This is  the 5th sentense\")"
      ],
      "metadata": {
        "id": "FiDlihLhHKXj"
      },
      "execution_count": null,
      "outputs": []
    },
    {
      "cell_type": "code",
      "source": [
        "#Case 5: Break is used after the 5 statements.So only the statements above the break will be able to print, rest will not be printing.\n",
        "list = [1,2,3,4]\n",
        "n = len(list)\n",
        "for  i in range(n):\n",
        "  print(\"This is 1st sentense\")\n",
        "  print(\"This is 2nd Sentense\")\n",
        "  print(\"This is the 3rd sentense just after the continue\")\n",
        "  print(\"This is  the 4th sentense\")\n",
        "  print(\"This is  the 5th sentense\")\n",
        "  break"
      ],
      "metadata": {
        "id": "jw07rTa9HR6-"
      },
      "execution_count": null,
      "outputs": []
    },
    {
      "cell_type": "code",
      "source": [
        "# Impotance of break statements. \n",
        "# Prime Number Example"
      ],
      "metadata": {
        "id": "0JUCg6xfHc2j"
      },
      "execution_count": null,
      "outputs": []
    },
    {
      "cell_type": "code",
      "source": [
        "# Case 1 ---> Prime Number Code  where break is not used."
      ],
      "metadata": {
        "id": "GQjtyzbcHiK-"
      },
      "execution_count": null,
      "outputs": []
    },
    {
      "cell_type": "code",
      "source": [
        "num = int(input(\"Enter the number: \"))\n",
        "count = 1\n",
        "for number in range(2,num):\n",
        "  count = count + 1\n",
        " # print(\"The value of number is {}\".format(number))\n",
        " # print(\"The value of num is {}\".format(num))\n",
        "  rem = (num % number)\n",
        "  print(\"The value of remainder for the number {} is {}\".format(count,rem))\n",
        "  if rem == 0:\n",
        "    print(\"It is not a Prime number\")\n",
        "else:\n",
        "  print(\"prime number\")"
      ],
      "metadata": {
        "id": "VfnIV2bHH_k4"
      },
      "execution_count": null,
      "outputs": []
    },
    {
      "cell_type": "code",
      "source": [
        "# Case 2 ---> Prime Number Code  where break is used."
      ],
      "metadata": {
        "id": "Qo2D6ibCH88V"
      },
      "execution_count": null,
      "outputs": []
    },
    {
      "cell_type": "code",
      "source": [
        "num = int(input(\"Enter the number: \"))\n",
        "count = 1\n",
        "for number in range(2,num):\n",
        "  count = count + 1\n",
        " # print(\"The value of number is {}\".format(number))\n",
        " # print(\"The value of num is {}\".format(num))\n",
        "  rem = (num % number)\n",
        "  print(\"The value of remainder for the number {} is {}\".format(count,rem))\n",
        "  if rem == 0:\n",
        "    print(\"It is not a Prime number\")\n",
        "    break\n",
        "else:\n",
        "  print(\"prime number\")"
      ],
      "metadata": {
        "id": "Cgu7nLXHIANf"
      },
      "execution_count": null,
      "outputs": []
    }
  ]
}